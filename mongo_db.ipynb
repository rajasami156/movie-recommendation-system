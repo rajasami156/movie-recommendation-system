{
 "cells": [
  {
   "cell_type": "code",
   "execution_count": 1,
   "metadata": {},
   "outputs": [
    {
     "name": "stdout",
     "output_type": "stream",
     "text": [
      "Total documents in the collection: 10000\n"
     ]
    }
   ],
   "source": [
    "from pymongo import MongoClient\n",
    "import os\n",
    "import pandas as pd\n",
    "mongo_uri = os.getenv(\"MONGO_URI\")\n",
    "client = MongoClient(mongo_uri)\n",
    "database = client.Movie_Recommendation\n",
    "collection = database.CSVData\n",
    "\n",
    "csv_file_path = \"new_dataset.csv\"\n",
    "df = pd.read_csv(csv_file_path)\n",
    "collection.insert_many(df.to_dict('records'))\n",
    "print(f\"Total documents in the collection: {collection.count_documents({})}\")\n",
    "\n",
    "# Close the MongoDB connection\n",
    "client.close()"
   ]
  }
 ],
 "metadata": {
  "kernelspec": {
   "display_name": "venv",
   "language": "python",
   "name": "python3"
  },
  "language_info": {
   "codemirror_mode": {
    "name": "ipython",
    "version": 3
   },
   "file_extension": ".py",
   "mimetype": "text/x-python",
   "name": "python",
   "nbconvert_exporter": "python",
   "pygments_lexer": "ipython3",
   "version": "3.10.10"
  }
 },
 "nbformat": 4,
 "nbformat_minor": 2
}
